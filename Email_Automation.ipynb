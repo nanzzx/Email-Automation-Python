{
  "nbformat": 4,
  "nbformat_minor": 0,
  "metadata": {
    "colab": {
      "provenance": [],
      "authorship_tag": "ABX9TyMVBoQgebF7jpaX/m/uWfzy",
      "include_colab_link": true
    },
    "kernelspec": {
      "name": "python3",
      "display_name": "Python 3"
    },
    "language_info": {
      "name": "python"
    }
  },
  "cells": [
    {
      "cell_type": "markdown",
      "metadata": {
        "id": "view-in-github",
        "colab_type": "text"
      },
      "source": [
        "<a href=\"https://colab.research.google.com/github/nanzzx/Email-Automation-Python/blob/main/Email_Automation.ipynb\" target=\"_parent\"><img src=\"https://colab.research.google.com/assets/colab-badge.svg\" alt=\"Open In Colab\"/></a>"
      ]
    },
    {
      "cell_type": "code",
      "execution_count": null,
      "metadata": {
        "id": "oacrQUxl4ugF"
      },
      "outputs": [],
      "source": [
        "import smtplib\n",
        "from email.message import EmailMessage\n",
        "with smtplib.SMTP_SSL('smtp.gmail.com',465) as smtp:\n",
        "  m=EmailMessage()\n",
        "  m['From']='From@gmail.com'\n",
        "  m['To']='To@gmail.com'\n",
        "  m['Subject']='Hello there'\n",
        "  m['X-Priority']='1'\n",
        "  m.set_content('Welcome to Email Automation')\n",
        "  smtp.login('From@gmail.com','app_password')\n",
        "  smtp.sendmail('From@gmail.com','To@gmail.com',m.as_string())"
      ]
    },
    {
      "cell_type": "code",
      "source": [
        "def send_mail(From_addr,Password,To_addr,Priority,Subject,Message):\n",
        "  with smtplib.SMTP_SSL('smtp.gmail.com',465) as smtp:\n",
        "   m=Message()\n",
        "   m['From']=From_addr,\n",
        "   m['To']=To_addr,\n",
        "   m['Subject']=Subject,\n",
        "   m['X-Priority']=Priority,\n",
        "   m.set_payload(Message)\n",
        "  smtp.login(From_addr,Password)\n",
        "  smtp.sendmail(From_addr,To_addr,m.as_string())"
      ],
      "metadata": {
        "id": "jigB3xtW8Kr1"
      },
      "execution_count": null,
      "outputs": []
    }
  ]
}